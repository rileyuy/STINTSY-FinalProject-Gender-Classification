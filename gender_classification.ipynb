{
 "cells": [
  {
   "cell_type": "markdown",
   "metadata": {},
   "source": [
    "### Gender Classification using Logistic Regression Model\n",
    "\n",
    "The main objective of this notebook is to see how logistic regression is used together along with a gender classification dataset that contains about 58,000 male and female images that are "
   ]
  },
  {
   "cell_type": "markdown",
   "metadata": {},
   "source": [
    "### Requirements from Rubric (dont delete muna)\n",
    "\n",
    "An overview or description of the data is provided, including how it was collected, and its implications on the types of conclusions that could be made from the data. A description of the variables, observations, and/or structure of the data is provided. The target task is well introduced and clearly defined.\n",
    "\n",
    "The data is sufficiently explored to get a grasp of the distribution and the content of the data. Appropriate summaries and visualizations are presented. Insights into how the EDA can help the model training is mentioned.\n",
    "\n",
    "The necessary steps for preprocessing and cleaning are performed, including explanations for every step. If no preprocessing or cleaning is done, there is a justification on why it was not needed.\n",
    "\n",
    "The appropriate models are used to accomplish the machine learning task. Justification of choosing the models is shown.\n",
    "\n",
    "Appropriate data-driven error analysis is made, and changes to the model selection and hyperparameters are performed to improve model performance. The study exhausts improvements that can be done to the model\n",
    "\n",
    "The study is concluded by effectively summarizing the efforts of the authors. Recommendations on how the model could be further improved are provided."
   ]
  },
  {
   "cell_type": "markdown",
   "metadata": {},
   "source": [
    "### About the Dataset\n",
    "\n",
    "The Gender Classification Dataset "
   ]
  },
  {
   "cell_type": "code",
   "execution_count": 43,
   "metadata": {},
   "outputs": [
    {
     "name": "stdout",
     "output_type": "stream",
     "text": [
      "23243\n",
      "23766\n",
      "5808\n",
      "5841\n"
     ]
    }
   ],
   "source": [
    "from torchvision import transforms\n",
    "\n",
    "# Image transformations\n",
    "image_transforms = {\n",
    "    # Train uses data augmentation\n",
    "    'train':\n",
    "    transforms.Compose([\n",
    "        transforms.RandomResizedCrop(size=256, scale=(0.8, 1.0)),\n",
    "        transforms.RandomRotation(degrees=15),\n",
    "        transforms.ColorJitter(),\n",
    "        transforms.RandomHorizontalFlip(),\n",
    "        transforms.CenterCrop(size=224),  # Image net standards\n",
    "        transforms.ToTensor(),\n",
    "        transforms.Normalize([0.485, 0.456, 0.406],\n",
    "                             [0.229, 0.224, 0.225])  # Imagenet standards\n",
    "    ]),\n",
    "    # Validation does not use augmentation\n",
    "    'valid':\n",
    "    transforms.Compose([\n",
    "        transforms.Resize(size=256),\n",
    "        transforms.CenterCrop(size=224),\n",
    "        transforms.ToTensor(),\n",
    "        transforms.Normalize([0.485, 0.456, 0.406], [0.229, 0.224, 0.225])\n",
    "    ]),\n",
    "}\n",
    "\n",
    "from torchvision import datasets\n",
    "from torch.utils.data import DataLoader\n",
    "import os\n",
    "\n",
    "# Datasets from folders\n",
    "\n",
    "# tm_path = \"C:\\Users\\uyjus\\Documents\\GitHub\\STINTSY-FinalProject-Gender-Classification\\train\\female\"\n",
    "\n",
    "data = {\n",
    "    'train_male':\n",
    "    datasets.ImageFolder(root='train/train_female', transform=image_transforms['train']),\n",
    "    'train_female':\n",
    "    datasets.ImageFolder(root='train/train_male', transform=image_transforms['train']),\n",
    "    'validation_male':\n",
    "    datasets.ImageFolder(root='valid/valid_male', transform=image_transforms['valid']),\n",
    "    'validation_female':\n",
    "    datasets.ImageFolder(root='valid/valid_female', transform=image_transforms['valid']),\n",
    "}\n",
    "\n",
    "\n",
    "tm_batch_size=len(data[\"train_male\"])\n",
    "print (tm_batch_size)\n",
    "tf_batch_size=len(data[\"train_female\"])\n",
    "print (tf_batch_size)\n",
    "vm_vatch_size=len(data[\"validation_male\"])\n",
    "print (vm_vatch_size)\n",
    "vf_batch_size=len(data[\"validation_female\"])\n",
    "print (vf_batch_size)\n",
    "\n",
    "# # Dataloader iterators, make sure to shuffle\n",
    "# dataloaders = {\n",
    "#     'train_male': DataLoader(data['train_male'], batch_size=tm_batch_size, shuffle=True),\n",
    "#     'train_female': DataLoader(data['train_female'], batch_size=tf_batch_size, shuffle=True),\n",
    "#     'validation_male': DataLoader(data['validation_male'], batch_size=vm_batch_size, shuffle=True),\n",
    "#     'validation_female': DataLoader(data['validation_female'], batch_size=vf_batch_size, shuffle=True)\n",
    "# }"
   ]
  }
 ],
 "metadata": {
  "kernelspec": {
   "display_name": "Python 3 (ipykernel)",
   "language": "python",
   "name": "python3"
  },
  "language_info": {
   "codemirror_mode": {
    "name": "ipython",
    "version": 3
   },
   "file_extension": ".py",
   "mimetype": "text/x-python",
   "name": "python",
   "nbconvert_exporter": "python",
   "pygments_lexer": "ipython3",
   "version": "3.9.12"
  }
 },
 "nbformat": 4,
 "nbformat_minor": 2
}
